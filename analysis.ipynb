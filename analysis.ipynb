{
 "cells": [
  {
   "cell_type": "code",
   "execution_count": 1,
   "source": [
    "import pandas as pd\r\n",
    "import datetime\r\n",
    "#import numpy as np\r\n",
    "#import matplotlib as plt\r\n"
   ],
   "outputs": [],
   "metadata": {}
  },
  {
   "cell_type": "code",
   "execution_count": 2,
   "source": [
    "df = pd.read_csv('BTCUSD_1h.csv') # df = pd.read_csv('BTCUSD_training_data_1m.csv')\r\n",
    "df = df.drop(['Close', 'High', 'Low', 'Volume'], axis=1) # cleaning the df out of unnecessary data"
   ],
   "outputs": [],
   "metadata": {}
  },
  {
   "cell_type": "code",
   "execution_count": 7,
   "source": [
    "# add investment period\r\n",
    "\r\n",
    "def DCA(amount, df):\r\n",
    "    data = pd.DataFrame(columns=['Date', 'Open']) # creating a new df\r\n",
    "    # populating new df only with the necessary data\r\n",
    "    for index, row in df.iterrows():\r\n",
    "        if index == 0 or index % 168 == 0: # 1h data point, investing weekly -> once in 168 hours\r\n",
    "            data = data.append(row, ignore_index=True)\r\n",
    "\r\n",
    "    hodl = 0 # the amount of crypto in our holdings\r\n",
    "    invested = 0 # the amount of USD invested\r\n",
    "\r\n",
    "    for i in range(0, data.shape[0]):\r\n",
    "        purchase = amount / data['Open'][i] # iterating over the data set by calling the index in the df['Open'] series\r\n",
    "        hodl+=purchase\r\n",
    "        invested+=amount\r\n",
    "\r\n",
    "    current_val = data['Open'].iat[-1] * hodl # using iat() instead of iloc() because we only need a single value and iat() is faster\r\n",
    "\r\n",
    "    # add if statement to call updateCSV, if the dataset is not complete\r\n",
    "\r\n",
    "    print(f'You have invested {invested} USD, and the current value of your holdings is {current_val:.2f} USD.')\r\n",
    "    print(f'You currently own {hodl:.5f} BTC.')"
   ],
   "outputs": [],
   "metadata": {}
  },
  {
   "cell_type": "code",
   "execution_count": 8,
   "source": [
    "amount = 10\r\n",
    "DCA(amount=amount, df=df)"
   ],
   "outputs": [
    {
     "output_type": "stream",
     "name": "stdout",
     "text": [
      "You have invested 4330 USD, and the current value of your holdings is 252385.96 USD.\n",
      "You currently own 7.37604 BTC.\n"
     ]
    }
   ],
   "metadata": {}
  },
  {
   "cell_type": "code",
   "execution_count": null,
   "source": [],
   "outputs": [],
   "metadata": {}
  },
  {
   "cell_type": "code",
   "execution_count": null,
   "source": [],
   "outputs": [],
   "metadata": {}
  },
  {
   "cell_type": "code",
   "execution_count": null,
   "source": [],
   "outputs": [],
   "metadata": {}
  },
  {
   "cell_type": "code",
   "execution_count": null,
   "source": [
    "last_time = data['Date'].iat[-1] # get the last time from the dataset (it's a string)\r\n",
    "format = \"%Y-%m-%d %H:%M:%S\" # specify the format\r\n",
    "\r\n",
    "last_time = datetime.datetime.strptime(last_time, format) # convert it into a datetime obj (datetime.datetime(2021, 7, 25, 16, 0))\r\n",
    "current_time = datetime.datetime.now() # datetime.datetime(2021, 7, 31, 14, 42, 28, 135348)\r\n",
    "\r\n",
    "time_diff = current_time - last_time # calculate the difference between now and the last point in the dataset, returns a timedelta obj"
   ],
   "outputs": [],
   "metadata": {}
  },
  {
   "cell_type": "code",
   "execution_count": null,
   "source": [
    "timeframe_sec = 3600 # 1h (60m*60s = 3600s)\r\n",
    "# check if the timedelta difference is greater\r\n",
    "time_diff > datetime.timedelta(seconds=timeframe_sec)"
   ],
   "outputs": [],
   "metadata": {}
  },
  {
   "cell_type": "code",
   "execution_count": null,
   "source": [
    "'''def updateCSV(filename, pair, timeframe):\r\n",
    "\r\n",
    "    t_start, t_stop = last_time, current_time\r\n",
    "    result = fetch_data(t_start, t_stop, pair, timeframe, timeframe_sec)\r\n",
    "    names = ['Date', 'Open', 'Close', 'High', 'Low', 'Volume']\r\n",
    "    temp_df = pd.DataFrame(result, columns=names)\r\n",
    "    temp_df.drop_duplicates(inplace=True)\r\n",
    "    temp_df['Date'] = pd.to_datetime(df['Date'], unit='ms')\r\n",
    "    temp_df.set_index('Date', inplace=True)\r\n",
    "    temp_df.sort_index(inplace=True)\r\n",
    "\r\n",
    "    old_df = pd.read_csv(f\"{pair}_{timeframe}.csv\")\r\n",
    "    updated_df = old_df.append(temp_df, ignore_index=True)\r\n",
    "    del temp_df\r\n",
    "\r\n",
    "    return updated_df'''"
   ],
   "outputs": [],
   "metadata": {}
  }
 ],
 "metadata": {
  "orig_nbformat": 4,
  "language_info": {
   "name": "python",
   "version": "3.8.5",
   "mimetype": "text/x-python",
   "codemirror_mode": {
    "name": "ipython",
    "version": 3
   },
   "pygments_lexer": "ipython3",
   "nbconvert_exporter": "python",
   "file_extension": ".py"
  },
  "kernelspec": {
   "name": "python3",
   "display_name": "Python 3.8.5 64-bit ('base': conda)"
  },
  "interpreter": {
   "hash": "f746ca5a55e476bb1170b60b961782c8b6729d9bebf6b28a811c1d3f2d600bae"
  }
 },
 "nbformat": 4,
 "nbformat_minor": 2
}