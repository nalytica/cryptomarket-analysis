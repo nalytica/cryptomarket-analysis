{
 "cells": [
  {
   "cell_type": "code",
   "execution_count": 1,
   "source": [
    "import pandas as pd\r\n",
    "import datetime"
   ],
   "outputs": [],
   "metadata": {}
  },
  {
   "cell_type": "code",
   "execution_count": 2,
   "source": [
    "df = pd.read_csv('BTCUSD_1h.csv') # df = pd.read_csv('BTCUSD_training_data_1m.csv')\r\n",
    "df = df.drop(['High', 'Low', 'Volume'], axis=1) # cleaning the df out of unnecessary data\r\n",
    "df = df.set_index('Date') # Setting the index to the Date column\r\n",
    "df['Value'] = df.mean(axis=1) # reducing the data even further by calculating the mean of Open and Close\r\n",
    "df = df.drop(['Open', 'Close'], axis=1) "
   ],
   "outputs": [],
   "metadata": {}
  },
  {
   "cell_type": "code",
   "execution_count": 3,
   "source": [
    "def DCA(df, amount, start, end, period=1):\r\n",
    "\r\n",
    "    hodl = 0\r\n",
    "    invested = 0\r\n",
    "\r\n",
    "    data = df['Value'].loc[start:end:period]\r\n",
    " \r\n",
    "    for item in data:\r\n",
    "        purchase = amount / item # iterating over the data set by calling the index in the df['Open'] series\r\n",
    "        hodl+=purchase\r\n",
    "        invested+=amount\r\n",
    "\r\n",
    "    current_val = df['Value'].iat[-1] * hodl # using iat() instead of iloc() because we only need a single value and iat() is faster\r\n",
    "    profit = current_val-invested\r\n",
    "    roi = (profit/invested) * 100 # return of investment - investment / investment * 100\r\n",
    "\r\n",
    "    return {'profit': profit, 'roi': roi, 'hodl': hodl, 'invested': invested, 'current_val': current_val}"
   ],
   "outputs": [],
   "metadata": {}
  },
  {
   "cell_type": "code",
   "execution_count": 4,
   "source": [
    "start = '2020-01-01 00:00:00'\r\n",
    "end = '2021-01-01 00:00:00'\r\n",
    "amount = 10\r\n",
    "period = 168 # hours "
   ],
   "outputs": [],
   "metadata": {}
  },
  {
   "cell_type": "code",
   "execution_count": 11,
   "source": [
    "result = DCA(df, amount, start, end, period)\r\n",
    "invested = result['invested']\r\n",
    "current_val = result['current_val']\r\n",
    "hodl = result['hodl']\r\n",
    "profit = result['profit']\r\n",
    "roi = result['roi']\r\n",
    "\r\n",
    "print(f'You have invested {invested} USD, and the current value of your holdings is {current_val:.2f} USD.')\r\n",
    "print(f'You currently own {hodl:.5f} BTC and your profit is {profit:.2f} USD. Your ROI is {roi:.2f}%.')"
   ],
   "outputs": [
    {
     "output_type": "stream",
     "name": "stdout",
     "text": [
      "You have invested 530 USD, and the current value of your holdings is 2107.87 USD.\n",
      "You currently own 0.05313 BTC and your profit is 1577.87 USD. Your ROI is 297.71%.\n"
     ]
    }
   ],
   "metadata": {}
  },
  {
   "cell_type": "code",
   "execution_count": 12,
   "source": [
    "def DCA_maximizer(budget, start, end, stepsize=24):\r\n",
    "    format = \"%Y-%m-%d %H:%M:%S\" # specifying the format for the datetime.strptime() function\r\n",
    "    dt_start = datetime.datetime.strptime(start, format)\r\n",
    "    dt_end = datetime.datetime.strptime(end, format)\r\n",
    "    hour_diff = (dt_end-dt_start).total_seconds() / 3600 # hour difference, because we have a data set with 1h data points\r\n",
    "\r\n",
    "    dca_dict = dict()\r\n",
    "\r\n",
    "    for period in range(24, 168+1, stepsize): # start at 1 day, end at 1 week, stepsize in hours\r\n",
    "        n_investments = hour_diff / period \r\n",
    "        amount = budget / n_investments\r\n",
    "        dca_dict[period] = DCA(df, amount, start, end, period)['profit']\r\n",
    "\r\n",
    "    maximum = max(dca_dict.values())\r\n",
    "    max_keys = [k for k, v in dca_dict.items() if v == maximum]\r\n",
    "\r\n",
    "    print(f'It is the best to invest every {max_keys[0]} hours for the profit of {maximum:.2f} USD.')\r\n",
    "\r\n"
   ],
   "outputs": [],
   "metadata": {}
  },
  {
   "cell_type": "code",
   "execution_count": 13,
   "source": [
    "DCA_maximizer(530, start, end)"
   ],
   "outputs": [
    {
     "output_type": "stream",
     "name": "stdout",
     "text": [
      "It is the best to invest every 144 hours for the profit of 1609.92 USD.\n"
     ]
    }
   ],
   "metadata": {}
  }
 ],
 "metadata": {
  "orig_nbformat": 4,
  "language_info": {
   "name": "python",
   "version": "3.8.5",
   "mimetype": "text/x-python",
   "codemirror_mode": {
    "name": "ipython",
    "version": 3
   },
   "pygments_lexer": "ipython3",
   "nbconvert_exporter": "python",
   "file_extension": ".py"
  },
  "kernelspec": {
   "name": "python3",
   "display_name": "Python 3.8.5 64-bit ('base': conda)"
  },
  "interpreter": {
   "hash": "f746ca5a55e476bb1170b60b961782c8b6729d9bebf6b28a811c1d3f2d600bae"
  }
 },
 "nbformat": 4,
 "nbformat_minor": 2
}